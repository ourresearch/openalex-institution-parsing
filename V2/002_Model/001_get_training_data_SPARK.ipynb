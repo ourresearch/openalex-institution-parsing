{
 "cells": [
  {
   "cell_type": "code",
   "execution_count": 0,
   "metadata": {
    "application/vnd.databricks.v1+cell": {
     "cellMetadata": {
      "byteLimit": 2048000,
      "rowLimit": 10000
     },
     "inputWidgets": {},
     "nuid": "44920190-9120-4ae8-858f-14f52b073315",
     "showTitle": false,
     "title": ""
    }
   },
   "outputs": [
    {
     "data": {
      "application/vnd.databricks.v1+bamboolib_hint": "{\"pd.DataFrames\": [], \"version\": \"0.0.1\"}",
      "text/plain": []
     },
     "metadata": {
      "application/vnd.databricks.v1+output": {
       "addedWidgets": {},
       "arguments": {},
       "data": {
        "application/vnd.databricks.v1+bamboolib_hint": "{\"pd.DataFrames\": [], \"version\": \"0.0.1\"}",
        "text/plain": ""
       },
       "datasetInfos": [],
       "executionCount": null,
       "metadata": {
        "kernelSessionId": "8694d160-5f27296cafb92fa44c55c1f7"
       },
       "removedWidgets": [],
       "type": "mimeBundle"
      }
     },
     "output_type": "display_data"
    }
   ],
   "source": [
    "import pickle\n",
    "import boto3\n",
    "import re\n",
    "import json\n",
    "import pandas as pd\n",
    "import numpy as np\n",
    "import matplotlib.pyplot as plt"
   ]
  },
  {
   "cell_type": "code",
   "execution_count": 0,
   "metadata": {
    "application/vnd.databricks.v1+cell": {
     "cellMetadata": {
      "byteLimit": 2048000,
      "rowLimit": 10000
     },
     "inputWidgets": {},
     "nuid": "2ba961a2-7e64-4844-8d78-c47e5f47c752",
     "showTitle": false,
     "title": ""
    }
   },
   "outputs": [
    {
     "name": "stdout",
     "output_type": "stream",
     "text": [
      "/databricks/spark/python/pyspark/sql/context.py:117: FutureWarning: Deprecated in 3.0.0. Use SparkSession.builder.getOrCreate() instead.\n",
      "  warnings.warn(\n"
     ]
    }
   ],
   "source": [
    "from pyspark.sql import SparkSession\n",
    "sc = spark.sparkContext\n",
    "from pyspark.sql import SQLContext\n",
    "from pyspark.sql import functions as F\n",
    "from pyspark.sql.window import Window\n",
    "from pyspark.sql.types import IntegerType, StringType, FloatType, ArrayType, DoubleType, StructType, StructField\n",
    "sqlContext = SQLContext(sc)"
   ]
  },
  {
   "cell_type": "code",
   "execution_count": 0,
   "metadata": {
    "application/vnd.databricks.v1+cell": {
     "cellMetadata": {
      "byteLimit": 2048000,
      "rowLimit": 10000
     },
     "inputWidgets": {},
     "nuid": "5f29191d-1059-4a1a-a42b-0a11e8599c1f",
     "showTitle": false,
     "title": ""
    }
   },
   "outputs": [],
   "source": [
    "# These paths should be changed to wherever you want to save the general data and where you want to save\n",
    "# iteration specific data\n",
    "base_save_path = \"./current_directory/\"\n",
    "iteration_save_path = \"./current_directory/institutional_affiliation_classification/\""
   ]
  },
  {
   "cell_type": "markdown",
   "metadata": {
    "application/vnd.databricks.v1+cell": {
     "cellMetadata": {},
     "inputWidgets": {},
     "nuid": "47f9abef-de4b-45bd-8d74-3d30740105f2",
     "showTitle": false,
     "title": ""
    }
   },
   "source": [
    "### Getting all data (From saved OpenAlex DB snapshot)"
   ]
  },
  {
   "cell_type": "code",
   "execution_count": 0,
   "metadata": {
    "application/vnd.databricks.v1+cell": {
     "cellMetadata": {},
     "inputWidgets": {},
     "nuid": "bfbb7d3c-7adf-4a23-aaa8-39f6f9f38d7b",
     "showTitle": false,
     "title": ""
    }
   },
   "outputs": [],
   "source": [
    "institutions = spark.read.parquet(f\"{base_save_path}static_institutions\") \\\n",
    "    .filter(F.col('ror_id')!='')"
   ]
  },
  {
   "cell_type": "code",
   "execution_count": 0,
   "metadata": {
    "application/vnd.databricks.v1+cell": {
     "cellMetadata": {},
     "inputWidgets": {},
     "nuid": "06521a7d-58ae-4e31-a5ab-add6547b2145",
     "showTitle": false,
     "title": ""
    }
   },
   "outputs": [
    {
     "name": "stdout",
     "output_type": "stream",
     "text": [
      "Out[5]: 102392"
     ]
    }
   ],
   "source": [
    "institutions.cache().count()"
   ]
  },
  {
   "cell_type": "code",
   "execution_count": 0,
   "metadata": {
    "application/vnd.databricks.v1+cell": {
     "cellMetadata": {
      "byteLimit": 2048000,
      "rowLimit": 10000
     },
     "inputWidgets": {},
     "nuid": "98e62bb7-5d47-484e-9a8f-43a734fd5beb",
     "showTitle": false,
     "title": ""
    }
   },
   "outputs": [],
   "source": [
    "affiliations = spark.read.parquet(f\"{base_save_path}static_affiliations\")"
   ]
  },
  {
   "cell_type": "code",
   "execution_count": 0,
   "metadata": {
    "application/vnd.databricks.v1+cell": {
     "cellMetadata": {
      "byteLimit": 2048000,
      "rowLimit": 10000
     },
     "inputWidgets": {},
     "nuid": "7108353a-2fc9-4631-9a44-4b868221bb3e",
     "showTitle": false,
     "title": ""
    }
   },
   "outputs": [
    {
     "name": "stdout",
     "output_type": "stream",
     "text": [
      "Out[5]: 634179075"
     ]
    }
   ],
   "source": [
    "affiliations.cache().count()"
   ]
  },
  {
   "cell_type": "markdown",
   "metadata": {
    "application/vnd.databricks.v1+cell": {
     "cellMetadata": {},
     "inputWidgets": {},
     "nuid": "18b42ff7-137e-46f4-a309-4fa30887954a",
     "showTitle": false,
     "title": ""
    }
   },
   "source": [
    "#### Getting ROR aff strings"
   ]
  },
  {
   "cell_type": "code",
   "execution_count": 0,
   "metadata": {
    "application/vnd.databricks.v1+cell": {
     "cellMetadata": {
      "byteLimit": 2048000,
      "rowLimit": 10000
     },
     "inputWidgets": {},
     "nuid": "96d8d214-16a3-4090-93ba-485561cc6a56",
     "showTitle": false,
     "title": ""
    }
   },
   "outputs": [],
   "source": [
    "dedup_affs = affiliations.select(F.trim(F.col('original_affiliation')).alias('original_affiliation'), 'affiliation_id')\\\n",
    ".filter(F.col('original_affiliation').isNotNull())\\\n",
    ".filter(F.col('original_affiliation')!='')\\\n",
    ".withColumn('aff_len', F.length(F.col('original_affiliation')))\\\n",
    ".filter(F.col('aff_len')>2)\\\n",
    ".groupby(['original_affiliation','affiliation_id']) \\\n",
    ".agg(F.count(F.col('affiliation_id')).alias('aff_string_counts'))"
   ]
  },
  {
   "cell_type": "code",
   "execution_count": 0,
   "metadata": {
    "application/vnd.databricks.v1+cell": {
     "cellMetadata": {
      "byteLimit": 2048000,
      "rowLimit": 10000
     },
     "inputWidgets": {},
     "nuid": "d53b5f75-9d2b-4b62-8f7d-7b1c0cce742a",
     "showTitle": false,
     "title": ""
    }
   },
   "outputs": [
    {
     "name": "stdout",
     "output_type": "stream",
     "text": [
      "Out[7]: 71022311"
     ]
    }
   ],
   "source": [
    "dedup_affs.cache().count()"
   ]
  },
  {
   "cell_type": "code",
   "execution_count": 0,
   "metadata": {
    "application/vnd.databricks.v1+cell": {
     "cellMetadata": {},
     "inputWidgets": {},
     "nuid": "0185bff4-2d20-4fce-b3cf-be8fb41386cc",
     "showTitle": false,
     "title": ""
    }
   },
   "outputs": [],
   "source": [
    "ror_data = spark.read.parquet(f\"{iteration_save_path}ror_strings.parquet\") \\\n",
    ".select('original_affiliation','affiliation_id')"
   ]
  },
  {
   "cell_type": "code",
   "execution_count": 0,
   "metadata": {
    "application/vnd.databricks.v1+cell": {
     "cellMetadata": {},
     "inputWidgets": {},
     "nuid": "8280c348-e71f-4a44-ac11-b890500a5d02",
     "showTitle": false,
     "title": ""
    }
   },
   "outputs": [
    {
     "name": "stdout",
     "output_type": "stream",
     "text": [
      "Out[12]: 9545485"
     ]
    }
   ],
   "source": [
    "ror_data.cache().count()"
   ]
  },
  {
   "cell_type": "markdown",
   "metadata": {},
   "source": [
    "### Gathering training data\n",
    "\n",
    "Since we are looking at all institutions, we need to up-sample the institutions that don't have many affiliation strings and down-sample the institutions that have large numbers of strings. There was a balance here that needed to be acheived. The more samples that are taken for each institution, the more overall training data we will have and the longer our model will take to train. However, more samples also means more ways of an institution showing up in an affiliation string. The number of samples was set to 50 as it was determined this was a good optimization point based on affiliation string count distribution and time it would take to train the model. However, unlike in V1 where we tried to keep all institutions at 50, for V2 we gave additional samples for institutions with more strings available. Specifically, we allowed those institutions to have up to 25 additional strings, for a total of 75."
   ]
  },
  {
   "cell_type": "code",
   "execution_count": 0,
   "metadata": {
    "application/vnd.databricks.v1+cell": {
     "cellMetadata": {},
     "inputWidgets": {},
     "nuid": "fa32b038-5cf3-4c8e-91de-f27c31865b0f",
     "showTitle": false,
     "title": ""
    }
   },
   "outputs": [],
   "source": [
    "num_samples_to_get = 50 "
   ]
  },
  {
   "cell_type": "code",
   "execution_count": 0,
   "metadata": {
    "application/vnd.databricks.v1+cell": {
     "cellMetadata": {},
     "inputWidgets": {},
     "nuid": "da6aa4bc-419c-43dc-80c8-9c84c342f77d",
     "showTitle": false,
     "title": ""
    }
   },
   "outputs": [],
   "source": [
    "w1 = Window.partitionBy('affiliation_id')\n",
    "\n",
    "filled_affiliations = dedup_affs \\\n",
    "    .join(ror_data.select('affiliation_id'), how='inner', on='affiliation_id') \\\n",
    "    .select('original_affiliation','affiliation_id') \\\n",
    "    .union(ror_data.select('original_affiliation','affiliation_id')) \\\n",
    "    .filter(~F.col('affiliation_id').isNull()) \\\n",
    "    .dropDuplicates() \\\n",
    "    .withColumn('random_prob', F.rand(seed=20)) \\\n",
    "    .withColumn('id_count', F.count(F.col('affiliation_id')).over(w1)) \\\n",
    "    .withColumn('scaled_count', F.lit(1)-((F.col('id_count') - F.lit(num_samples_to_get))/(F.lit(3500000) - F.lit(num_samples_to_get)))) \\\n",
    "    .withColumn('final_prob', F.col('random_prob')*F.col('scaled_count'))"
   ]
  },
  {
   "cell_type": "code",
   "execution_count": 0,
   "metadata": {
    "application/vnd.databricks.v1+cell": {
     "cellMetadata": {},
     "inputWidgets": {},
     "nuid": "1f742262-b1cf-4d85-8f53-a84a8803b723",
     "showTitle": false,
     "title": ""
    }
   },
   "outputs": [
    {
     "name": "stdout",
     "output_type": "stream",
     "text": [
      "Out[38]: 102392"
     ]
    }
   ],
   "source": [
    "filled_affiliations.select('affiliation_id').distinct().count()"
   ]
  },
  {
   "cell_type": "code",
   "execution_count": 0,
   "metadata": {
    "application/vnd.databricks.v1+cell": {
     "cellMetadata": {},
     "inputWidgets": {},
     "nuid": "6f6dfa49-c78f-4c22-accd-2ce0df6bcfeb",
     "showTitle": false,
     "title": ""
    }
   },
   "outputs": [
    {
     "name": "stdout",
     "output_type": "stream",
     "text": [
      "Out[39]: (29482, 6)"
     ]
    }
   ],
   "source": [
    "less_than = filled_affiliations.dropDuplicates(subset=['affiliation_id']).filter(F.col('id_count') < num_samples_to_get).toPandas()\n",
    "less_than.shape"
   ]
  },
  {
   "cell_type": "code",
   "execution_count": 0,
   "metadata": {
    "application/vnd.databricks.v1+cell": {
     "cellMetadata": {},
     "inputWidgets": {},
     "nuid": "67ba033b-7145-4388-8467-7b46db44a94c",
     "showTitle": false,
     "title": ""
    }
   },
   "outputs": [
    {
     "data": {
      "text/html": [
       "<div>\n",
       "<style scoped>\n",
       "    .dataframe tbody tr th:only-of-type {\n",
       "        vertical-align: middle;\n",
       "    }\n",
       "\n",
       "    .dataframe tbody tr th {\n",
       "        vertical-align: top;\n",
       "    }\n",
       "\n",
       "    .dataframe thead th {\n",
       "        text-align: right;\n",
       "    }\n",
       "</style>\n",
       "<table border=\"1\" class=\"dataframe\">\n",
       "  <thead>\n",
       "    <tr style=\"text-align: right;\">\n",
       "      <th></th>\n",
       "      <th>original_affiliation</th>\n",
       "      <th>affiliation_id</th>\n",
       "      <th>random_prob</th>\n",
       "      <th>id_count</th>\n",
       "      <th>scaled_count</th>\n",
       "      <th>final_prob</th>\n",
       "    </tr>\n",
       "  </thead>\n",
       "  <tbody>\n",
       "    <tr>\n",
       "      <th>18956</th>\n",
       "      <td>Kryton International (Canada), Vancouver, Brit...</td>\n",
       "      <td>4210107101</td>\n",
       "      <td>0.229724</td>\n",
       "      <td>44</td>\n",
       "      <td>1.000002</td>\n",
       "      <td>0.229724</td>\n",
       "    </tr>\n",
       "    <tr>\n",
       "      <th>23769</th>\n",
       "      <td>Prague Security Studies Institute Hlavni mesto...</td>\n",
       "      <td>2801162436</td>\n",
       "      <td>0.429828</td>\n",
       "      <td>36</td>\n",
       "      <td>1.000004</td>\n",
       "      <td>0.429830</td>\n",
       "    </tr>\n",
       "    <tr>\n",
       "      <th>3498</th>\n",
       "      <td>Griffin Foundation, Naples, FL, USA.</td>\n",
       "      <td>4210097069</td>\n",
       "      <td>0.579718</td>\n",
       "      <td>16</td>\n",
       "      <td>1.000010</td>\n",
       "      <td>0.579723</td>\n",
       "    </tr>\n",
       "    <tr>\n",
       "      <th>1590</th>\n",
       "      <td>SPDI, Shenzhen, Guangdong</td>\n",
       "      <td>4210153611</td>\n",
       "      <td>0.794875</td>\n",
       "      <td>35</td>\n",
       "      <td>1.000004</td>\n",
       "      <td>0.794879</td>\n",
       "    </tr>\n",
       "    <tr>\n",
       "      <th>8944</th>\n",
       "      <td>Heart of Passion, United States</td>\n",
       "      <td>4210094562</td>\n",
       "      <td>0.812761</td>\n",
       "      <td>13</td>\n",
       "      <td>1.000011</td>\n",
       "      <td>0.812770</td>\n",
       "    </tr>\n",
       "    <tr>\n",
       "      <th>8078</th>\n",
       "      <td>Research Center Conoship International (Nether...</td>\n",
       "      <td>4210151141</td>\n",
       "      <td>0.298330</td>\n",
       "      <td>23</td>\n",
       "      <td>1.000008</td>\n",
       "      <td>0.298333</td>\n",
       "    </tr>\n",
       "    <tr>\n",
       "      <th>29430</th>\n",
       "      <td>Axone (Switzerland)</td>\n",
       "      <td>4210159503</td>\n",
       "      <td>0.824708</td>\n",
       "      <td>24</td>\n",
       "      <td>1.000007</td>\n",
       "      <td>0.824714</td>\n",
       "    </tr>\n",
       "    <tr>\n",
       "      <th>13317</th>\n",
       "      <td>Stiftung Berliner Sparkasse</td>\n",
       "      <td>4210098415</td>\n",
       "      <td>0.639455</td>\n",
       "      <td>12</td>\n",
       "      <td>1.000011</td>\n",
       "      <td>0.639462</td>\n",
       "    </tr>\n",
       "    <tr>\n",
       "      <th>5702</th>\n",
       "      <td>Shwachman Diamond Syndrome Foundation, United ...</td>\n",
       "      <td>4210139487</td>\n",
       "      <td>0.981985</td>\n",
       "      <td>13</td>\n",
       "      <td>1.000011</td>\n",
       "      <td>0.981995</td>\n",
       "    </tr>\n",
       "    <tr>\n",
       "      <th>8607</th>\n",
       "      <td>Institute of Electronic Business Berlin Germany</td>\n",
       "      <td>4210086833</td>\n",
       "      <td>0.506604</td>\n",
       "      <td>17</td>\n",
       "      <td>1.000009</td>\n",
       "      <td>0.506609</td>\n",
       "    </tr>\n",
       "  </tbody>\n",
       "</table>\n",
       "</div>"
      ]
     },
     "metadata": {
      "application/vnd.databricks.v1+output": {
       "addedWidgets": {},
       "arguments": {},
       "data": "<div>\n<style scoped>\n    .dataframe tbody tr th:only-of-type {\n        vertical-align: middle;\n    }\n\n    .dataframe tbody tr th {\n        vertical-align: top;\n    }\n\n    .dataframe thead th {\n        text-align: right;\n    }\n</style>\n<table border=\"1\" class=\"dataframe\">\n  <thead>\n    <tr style=\"text-align: right;\">\n      <th></th>\n      <th>original_affiliation</th>\n      <th>affiliation_id</th>\n      <th>random_prob</th>\n      <th>id_count</th>\n      <th>scaled_count</th>\n      <th>final_prob</th>\n    </tr>\n  </thead>\n  <tbody>\n    <tr>\n      <th>18956</th>\n      <td>Kryton International (Canada), Vancouver, Brit...</td>\n      <td>4210107101</td>\n      <td>0.229724</td>\n      <td>44</td>\n      <td>1.000002</td>\n      <td>0.229724</td>\n    </tr>\n    <tr>\n      <th>23769</th>\n      <td>Prague Security Studies Institute Hlavni mesto...</td>\n      <td>2801162436</td>\n      <td>0.429828</td>\n      <td>36</td>\n      <td>1.000004</td>\n      <td>0.429830</td>\n    </tr>\n    <tr>\n      <th>3498</th>\n      <td>Griffin Foundation, Naples, FL, USA.</td>\n      <td>4210097069</td>\n      <td>0.579718</td>\n      <td>16</td>\n      <td>1.000010</td>\n      <td>0.579723</td>\n    </tr>\n    <tr>\n      <th>1590</th>\n      <td>SPDI, Shenzhen, Guangdong</td>\n      <td>4210153611</td>\n      <td>0.794875</td>\n      <td>35</td>\n      <td>1.000004</td>\n      <td>0.794879</td>\n    </tr>\n    <tr>\n      <th>8944</th>\n      <td>Heart of Passion, United States</td>\n      <td>4210094562</td>\n      <td>0.812761</td>\n      <td>13</td>\n      <td>1.000011</td>\n      <td>0.812770</td>\n    </tr>\n    <tr>\n      <th>8078</th>\n      <td>Research Center Conoship International (Nether...</td>\n      <td>4210151141</td>\n      <td>0.298330</td>\n      <td>23</td>\n      <td>1.000008</td>\n      <td>0.298333</td>\n    </tr>\n    <tr>\n      <th>29430</th>\n      <td>Axone (Switzerland)</td>\n      <td>4210159503</td>\n      <td>0.824708</td>\n      <td>24</td>\n      <td>1.000007</td>\n      <td>0.824714</td>\n    </tr>\n    <tr>\n      <th>13317</th>\n      <td>Stiftung Berliner Sparkasse</td>\n      <td>4210098415</td>\n      <td>0.639455</td>\n      <td>12</td>\n      <td>1.000011</td>\n      <td>0.639462</td>\n    </tr>\n    <tr>\n      <th>5702</th>\n      <td>Shwachman Diamond Syndrome Foundation, United ...</td>\n      <td>4210139487</td>\n      <td>0.981985</td>\n      <td>13</td>\n      <td>1.000011</td>\n      <td>0.981995</td>\n    </tr>\n    <tr>\n      <th>8607</th>\n      <td>Institute of Electronic Business Berlin Germany</td>\n      <td>4210086833</td>\n      <td>0.506604</td>\n      <td>17</td>\n      <td>1.000009</td>\n      <td>0.506609</td>\n    </tr>\n  </tbody>\n</table>\n</div>",
       "datasetInfos": [],
       "metadata": {},
       "removedWidgets": [],
       "textData": null,
       "type": "htmlSandbox"
      }
     },
     "output_type": "display_data"
    }
   ],
   "source": [
    "less_than.sample(10)"
   ]
  },
  {
   "cell_type": "code",
   "execution_count": 0,
   "metadata": {
    "application/vnd.databricks.v1+cell": {
     "cellMetadata": {},
     "inputWidgets": {},
     "nuid": "49de18b8-1759-47f3-9fc7-b6f3796f0ae1",
     "showTitle": false,
     "title": ""
    }
   },
   "outputs": [],
   "source": [
    "temp_df_list = []\n",
    "for aff_id in less_than['affiliation_id'].unique():\n",
    "    temp_df = less_than[less_than['affiliation_id']==aff_id].copy()\n",
    "    help_df = temp_df.sample(num_samples_to_get - temp_df.shape[0], replace=True)\n",
    "    temp_df_list.append(pd.concat([temp_df, help_df], axis=0))\n",
    "less_than_df = pd.concat(temp_df_list, axis=0)"
   ]
  },
  {
   "cell_type": "code",
   "execution_count": 0,
   "metadata": {
    "application/vnd.databricks.v1+cell": {
     "cellMetadata": {},
     "inputWidgets": {},
     "nuid": "3e6bea7d-291d-4565-ae09-c132a49bffd1",
     "showTitle": false,
     "title": ""
    }
   },
   "outputs": [
    {
     "name": "stdout",
     "output_type": "stream",
     "text": [
      "Out[42]: (1474100, 6)"
     ]
    }
   ],
   "source": [
    "less_than_df.shape"
   ]
  },
  {
   "cell_type": "code",
   "execution_count": 0,
   "metadata": {
    "application/vnd.databricks.v1+cell": {
     "cellMetadata": {},
     "inputWidgets": {},
     "nuid": "29fb74a2-19bf-4e86-83cd-4c2db32b07b0",
     "showTitle": false,
     "title": ""
    }
   },
   "outputs": [],
   "source": [
    "# only install fsspec and s3fs\n",
    "less_than_df[['original_affiliation', 'affiliation_id']].to_parquet(f\"{iteration_save_path}lower_than_{num_samples_to_get}.parquet\")"
   ]
  },
  {
   "cell_type": "code",
   "execution_count": 0,
   "metadata": {
    "application/vnd.databricks.v1+cell": {
     "cellMetadata": {},
     "inputWidgets": {},
     "nuid": "d4fcd7f5-d83f-4209-a0a4-93a41d3b1db0",
     "showTitle": false,
     "title": ""
    }
   },
   "outputs": [],
   "source": [
    "w1 = Window.partitionBy('affiliation_id').orderBy('random_prob')\n",
    "\n",
    "more_than = filled_affiliations.filter(F.col('id_count') >= num_samples_to_get) \\\n",
    ".withColumn('row_number', F.row_number().over(w1)) \\\n",
    ".filter(F.col('row_number') <= num_samples_to_get+25)"
   ]
  },
  {
   "cell_type": "code",
   "execution_count": 0,
   "metadata": {
    "application/vnd.databricks.v1+cell": {
     "cellMetadata": {},
     "inputWidgets": {},
     "nuid": "5a9953a5-ef1f-49c6-994f-7ef7b1c93328",
     "showTitle": false,
     "title": ""
    }
   },
   "outputs": [
    {
     "name": "stdout",
     "output_type": "stream",
     "text": [
      "Out[46]: 5250661"
     ]
    }
   ],
   "source": [
    "more_than.cache().count()"
   ]
  },
  {
   "cell_type": "code",
   "execution_count": 0,
   "metadata": {
    "application/vnd.databricks.v1+cell": {
     "cellMetadata": {},
     "inputWidgets": {},
     "nuid": "4e2a8892-ab40-47a0-92e1-7d1633068c2b",
     "showTitle": false,
     "title": ""
    }
   },
   "outputs": [],
   "source": [
    "more_than.select('original_affiliation', 'affiliation_id') \\\n",
    ".coalesce(1).write.mode('overwrite').parquet(f\"{iteration_save_path}more_than_{num_samples_to_get}\")"
   ]
  },
  {
   "cell_type": "code",
   "execution_count": 0,
   "metadata": {
    "application/vnd.databricks.v1+cell": {
     "cellMetadata": {},
     "inputWidgets": {},
     "nuid": "df6f90de-19dd-40d2-b9fb-c9039186daa5",
     "showTitle": false,
     "title": ""
    }
   },
   "outputs": [],
   "source": []
  },
  {
   "cell_type": "code",
   "execution_count": 0,
   "metadata": {
    "application/vnd.databricks.v1+cell": {
     "cellMetadata": {},
     "inputWidgets": {},
     "nuid": "5443d79e-8ae0-468f-98c1-6ff31bdc26ac",
     "showTitle": false,
     "title": ""
    }
   },
   "outputs": [],
   "source": []
  }
 ],
 "metadata": {
  "application/vnd.databricks.v1+notebook": {
   "dashboards": [],
   "language": "python",
   "notebookMetadata": {
    "pythonIndentUnit": 4
   },
   "notebookName": "institutional_affiliation_classification_V25_all_strings",
   "notebookOrigID": 1621990259572172,
   "widgets": {}
  },
  "kernelspec": {
   "display_name": "Python 3 (ipykernel)",
   "language": "python",
   "name": "python3"
  },
  "language_info": {
   "codemirror_mode": {
    "name": "ipython",
    "version": 3
   },
   "file_extension": ".py",
   "mimetype": "text/x-python",
   "name": "python",
   "nbconvert_exporter": "python",
   "pygments_lexer": "ipython3",
   "version": "3.8.12"
  }
 },
 "nbformat": 4,
 "nbformat_minor": 1
}
