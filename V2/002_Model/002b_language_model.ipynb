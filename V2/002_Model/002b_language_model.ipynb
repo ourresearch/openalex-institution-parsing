{
 "cells": [
  {
   "cell_type": "code",
   "execution_count": 1,
   "id": "efc67f40",
   "metadata": {},
   "outputs": [],
   "source": [
    "import pickle\n",
    "import json\n",
    "import pandas as pd\n",
    "pd.set_option(\"display.max_colwidth\", None)\n",
    "import numpy as np\n",
    "\n",
    "from collections import Counter\n",
    "from math import ceil\n",
    "from sklearn.model_selection import train_test_split"
   ]
  },
  {
   "cell_type": "code",
   "execution_count": 37,
   "id": "9b1745b7",
   "metadata": {},
   "outputs": [],
   "source": [
    "import tensorflow as tf\n",
    "from tensorflow.keras.optimizers import Adam\n",
    "from tensorflow.keras.optimizers.schedules import PolynomialDecay\n",
    "from datasets import load_dataset\n",
    "from transformers import create_optimizer, TFAutoModelForSequenceClassification, DistilBertTokenizer\n",
    "from transformers import DataCollatorWithPadding, TFDistilBertForSequenceClassification\n",
    "from transformers import TFRobertaForSequenceClassification, RobertaTokenizer\n",
    "from transformers import AutoModelForSequenceClassification, TrainingArguments, Trainer"
   ]
  },
  {
   "cell_type": "code",
   "execution_count": null,
   "id": "bebbbe79",
   "metadata": {},
   "outputs": [],
   "source": []
  },
  {
   "cell_type": "markdown",
   "id": "fb8636a8",
   "metadata": {},
   "source": [
    "### Loading Affiliation Dictionary"
   ]
  },
  {
   "cell_type": "code",
   "execution_count": 4,
   "id": "78df9497",
   "metadata": {},
   "outputs": [],
   "source": [
    "# Loading the affiliation (target) vocab\n",
    "with open(\"affiliation_vocab.pkl\",\"rb\") as f:\n",
    "    affiliation_vocab = pickle.load(f)\n",
    "    \n",
    "inverse_affiliation_vocab = {i:j for j,i in affiliation_vocab.items()}"
   ]
  },
  {
   "cell_type": "code",
   "execution_count": 40,
   "id": "75f24a8f",
   "metadata": {},
   "outputs": [],
   "source": [
    "with open(\"affiliation_vocab.pkl\",\"wb\") as f:\n",
    "    pickle.dump(affiliation_vocab, f)"
   ]
  },
  {
   "cell_type": "code",
   "execution_count": 5,
   "id": "0c0e69c0",
   "metadata": {},
   "outputs": [
    {
     "data": {
      "text/plain": [
       "102392"
      ]
     },
     "execution_count": 5,
     "metadata": {},
     "output_type": "execute_result"
    }
   ],
   "source": [
    "len(affiliation_vocab)"
   ]
  },
  {
   "cell_type": "markdown",
   "id": "a0e8e174",
   "metadata": {},
   "source": [
    "### Tokenizing Affiliation String"
   ]
  },
  {
   "cell_type": "code",
   "execution_count": 6,
   "id": "0f6cd658",
   "metadata": {},
   "outputs": [],
   "source": [
    "# Loading the standard DistilBERT tokenizer\n",
    "tokenizer = DistilBertTokenizer.from_pretrained(\"distilbert-base-uncased\", return_tensors='tf')"
   ]
  },
  {
   "cell_type": "code",
   "execution_count": null,
   "id": "4ef5701a",
   "metadata": {},
   "outputs": [],
   "source": [
    "# Using the HuggingFace library to load the dataset\n",
    "train_dataset = load_dataset(\"parquet\", data_files={'train': 'train_data.parquet'})\n",
    "val_dataset = load_dataset(\"parquet\", data_files={'val': 'val_data.parquet'})"
   ]
  },
  {
   "cell_type": "code",
   "execution_count": 8,
   "id": "6aed9ded",
   "metadata": {},
   "outputs": [],
   "source": [
    "MAX_LEN = 256\n",
    "\n",
    "def preprocess_function(examples):\n",
    "    return tokenizer(examples[\"processed_text\"], truncation=True, padding=True, \n",
    "                     max_length=MAX_LEN)"
   ]
  },
  {
   "cell_type": "code",
   "execution_count": null,
   "id": "47ec0201",
   "metadata": {},
   "outputs": [],
   "source": [
    "# Tokenizing the train dataset\n",
    "tokenized_train_data = train_dataset.map(preprocess_function, batched=False)"
   ]
  },
  {
   "cell_type": "code",
   "execution_count": 10,
   "id": "d4cf74ed",
   "metadata": {},
   "outputs": [
    {
     "data": {
      "text/plain": [
       "{'train': 0}"
      ]
     },
     "execution_count": 10,
     "metadata": {},
     "output_type": "execute_result"
    }
   ],
   "source": [
    "tokenized_train_data.cleanup_cache_files()"
   ]
  },
  {
   "cell_type": "code",
   "execution_count": null,
   "id": "7e4891f7",
   "metadata": {},
   "outputs": [],
   "source": [
    "# Tokenizing the validation dataset\n",
    "tokenized_val_data = val_dataset.map(preprocess_function, batched=False)"
   ]
  },
  {
   "cell_type": "code",
   "execution_count": 12,
   "id": "302110cc",
   "metadata": {},
   "outputs": [
    {
     "data": {
      "text/plain": [
       "{'val': 0}"
      ]
     },
     "execution_count": 12,
     "metadata": {},
     "output_type": "execute_result"
    }
   ],
   "source": [
    "tokenized_val_data.cleanup_cache_files()"
   ]
  },
  {
   "cell_type": "markdown",
   "id": "155ced38",
   "metadata": {},
   "source": [
    "### Creating the model"
   ]
  },
  {
   "cell_type": "code",
   "execution_count": 31,
   "id": "618e5d8b",
   "metadata": {},
   "outputs": [],
   "source": [
    "# Hyperparameters to tune\n",
    "batch_size = 512\n",
    "num_epochs = 15\n",
    "batches_per_epoch = len(tokenized_train_data[\"train\"]) // batch_size\n",
    "total_train_steps = int(batches_per_epoch * num_epochs)"
   ]
  },
  {
   "cell_type": "code",
   "execution_count": null,
   "id": "fe391be0",
   "metadata": {
    "scrolled": true
   },
   "outputs": [],
   "source": [
    "# Allow for use of multiple GPUs\n",
    "strategy = tf.distribute.MirroredStrategy()\n",
    "\n",
    "with strategy.scope():\n",
    "    data_collator = DataCollatorWithPadding(tokenizer=tokenizer, return_tensors='tf')\n",
    "\n",
    "    # Turning dataset into TF dataset\n",
    "    tf_train_dataset = tokenized_train_data[\"train\"].to_tf_dataset(\n",
    "    columns=[\"input_ids\", \"attention_mask\", \"label\"],\n",
    "    shuffle=True,\n",
    "    batch_size=batch_size, \n",
    "    collate_fn=data_collator)\n",
    "\n",
    "    # Turning dataset into TF dataset\n",
    "    tf_val_dataset = tokenized_val_data[\"val\"].to_tf_dataset(\n",
    "    columns=[\"input_ids\", \"attention_mask\", \"label\"],\n",
    "    shuffle=False,\n",
    "    batch_size=512,\n",
    "    collate_fn=data_collator)\n",
    "\n",
    "    # Using HuggingFace library to create optimizer\n",
    "    lr_scheduler = PolynomialDecay(\n",
    "    initial_learning_rate=5e-5, end_learning_rate=5e-7, decay_steps=total_train_steps)\n",
    "\n",
    "\n",
    "    opt = Adam(learning_rate=lr_scheduler)\n",
    "    \n",
    "    # Loading the DistilBERT model and weights with a classification head\n",
    "    model = TFAutoModelForSequenceClassification.from_pretrained(\"distilbert-base-uncased\", \n",
    "                                                                 num_labels=len(affiliation_vocab))\n",
    "    model.compile(optimizer=opt)"
   ]
  },
  {
   "cell_type": "code",
   "execution_count": null,
   "id": "5420b47b",
   "metadata": {
    "scrolled": true
   },
   "outputs": [],
   "source": [
    "model.fit(tf_train_dataset, validation_data=tf_val_dataset, epochs=num_epochs)"
   ]
  },
  {
   "cell_type": "code",
   "execution_count": 41,
   "id": "7cba4069",
   "metadata": {},
   "outputs": [],
   "source": [
    "tf_save_directory = \"./all_strings_language_model_15epochs\""
   ]
  },
  {
   "cell_type": "code",
   "execution_count": 42,
   "id": "a6261844",
   "metadata": {},
   "outputs": [],
   "source": [
    "# Saving the model, tokenizer, and affiliation (target) vocab\n",
    "tokenizer.save_pretrained(tf_save_directory)\n",
    "model.save_pretrained(tf_save_directory)\n",
    "with open(f\"{tf_save_directory}/vocab.pkl\", \"wb\") as f:\n",
    "    pickle.dump(affiliation_vocab, f)"
   ]
  },
  {
   "cell_type": "code",
   "execution_count": null,
   "id": "2d2089d2",
   "metadata": {},
   "outputs": [],
   "source": []
  }
 ],
 "metadata": {
  "kernelspec": {
   "display_name": "Python 3 (ipykernel)",
   "language": "python",
   "name": "python3"
  },
  "language_info": {
   "codemirror_mode": {
    "name": "ipython",
    "version": 3
   },
   "file_extension": ".py",
   "mimetype": "text/x-python",
   "name": "python",
   "nbconvert_exporter": "python",
   "pygments_lexer": "ipython3",
   "version": "3.8.12"
  }
 },
 "nbformat": 4,
 "nbformat_minor": 5
}
