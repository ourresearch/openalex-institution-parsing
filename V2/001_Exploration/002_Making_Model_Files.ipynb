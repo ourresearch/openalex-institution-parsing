{
 "cells": [
  {
   "cell_type": "code",
   "execution_count": 1,
   "id": "efc67f40",
   "metadata": {},
   "outputs": [],
   "source": [
    "import pickle\n",
    "import json\n",
    "import redshift_connector\n",
    "import pandas as pd\n",
    "pd.set_option(\"display.max_colwidth\", None)\n",
    "pd.set_option(\"display.max_columns\", None)\n",
    "pd.set_option(\"display.max_rows\", 200)\n",
    "import numpy as np\n",
    "import re\n",
    "import os\n",
    "\n",
    "from unidecode import unidecode\n",
    "from collections import Counter\n",
    "from math import ceil\n",
    "from langdetect import detect\n",
    "from random import sample"
   ]
  },
  {
   "cell_type": "markdown",
   "id": "06735fac",
   "metadata": {},
   "source": [
    "## Support Files"
   ]
  },
  {
   "cell_type": "markdown",
   "id": "7f719469",
   "metadata": {},
   "source": [
    "Throughout the modeling process, some of the model artifacts needed to be updated and so this notebook was used to quickly update those files."
   ]
  },
  {
   "cell_type": "code",
   "execution_count": 42,
   "id": "7325fe49",
   "metadata": {},
   "outputs": [
    {
     "name": "stdout",
     "output_type": "stream",
     "text": [
      "Loaded list of departments\n",
      "Loaded affiliation dictionary\n",
      "Loaded flat list of countries\n",
      "Loaded countries dictionary\n",
      "Loaded strings of city/country combinations\n"
     ]
    }
   ],
   "source": [
    "# location where current files are located\n",
    "curr_model_artifacts_location = \"./curr_location/\"\n",
    "\n",
    "# Load the needed files\n",
    "with open(f\"{curr_model_artifacts_location}departments_list.pkl\", \"rb\") as f:\n",
    "    departments_list = pickle.load(f)\n",
    "\n",
    "print(\"Loaded list of departments\")\n",
    "\n",
    "with open(f\"{curr_model_artifacts_location}countries_list_flat.pkl\", \"rb\") as f:\n",
    "    countries_list_flat = pickle.load(f)\n",
    "\n",
    "print(\"Loaded flat list of countries\")\n",
    "\n",
    "with open(f\"{curr_model_artifacts_location}countries.json\", \"r\") as f:\n",
    "    countries_dict = json.load(f)\n",
    "\n",
    "print(\"Loaded countries dictionary\")\n",
    "\n",
    "with open(f\"{curr_model_artifacts_location}city_country_list.pkl\", \"rb\") as f:\n",
    "    city_country_list = pickle.load(f)\n",
    "\n",
    "print(\"Loaded strings of city/country combinations\")"
   ]
  },
  {
   "cell_type": "code",
   "execution_count": null,
   "id": "09cc5816",
   "metadata": {},
   "outputs": [],
   "source": []
  },
  {
   "cell_type": "code",
   "execution_count": null,
   "id": "25271178",
   "metadata": {},
   "outputs": [],
   "source": []
  },
  {
   "cell_type": "markdown",
   "id": "5502b0dd",
   "metadata": {},
   "source": [
    "### Looking at ROR"
   ]
  },
  {
   "cell_type": "code",
   "execution_count": 48,
   "id": "c49d9de9",
   "metadata": {},
   "outputs": [],
   "source": [
    "def get_geoname_admin(address_dict):\n",
    "    try:\n",
    "        geoname_admin = address_dict['geonames_city']['geonames_admin1']['name']\n",
    "    except:\n",
    "        geoname_admin = \"None\"\n",
    "        \n",
    "    return geoname_admin"
   ]
  },
  {
   "cell_type": "code",
   "execution_count": 49,
   "id": "1612ec85",
   "metadata": {},
   "outputs": [],
   "source": [
    "def get_final_region(ror_state, ror_region):\n",
    "    if isinstance(ror_state, str):\n",
    "        return ror_state\n",
    "    elif isinstance(ror_region, str):\n",
    "        return ror_region\n",
    "    else:\n",
    "        return None"
   ]
  },
  {
   "cell_type": "code",
   "execution_count": 50,
   "id": "05bbef34",
   "metadata": {},
   "outputs": [],
   "source": [
    "def check_for_backwards_univ(curr_names):\n",
    "    names = curr_names.copy()\n",
    "    for one_name in curr_names:\n",
    "        split_name = one_name.split(\" \")\n",
    "        if len(split_name) == 3:\n",
    "            if (split_name[0] == 'University') & (split_name[1] == 'of'):\n",
    "                names.append(f\"{split_name[2]} University\")\n",
    "        elif len(split_name) == 2:\n",
    "            if (split_name[1] == 'University'):\n",
    "                names.append(f\"University of {split_name[0]}\")\n",
    "        else:\n",
    "            pass\n",
    "    return names"
   ]
  },
  {
   "cell_type": "code",
   "execution_count": 59,
   "id": "05b65ea6",
   "metadata": {},
   "outputs": [],
   "source": [
    "def add_names_to_list(all_names):\n",
    "    names = all_names.copy()\n",
    "    if \"Harvard University\" in names:\n",
    "        names.append(\"Harvard Medical School\")\n",
    "    elif \"University of Oxford\" in names:\n",
    "        names.append(\"Oxford University\")\n",
    "    else:\n",
    "        pass\n",
    "    \n",
    "    return names"
   ]
  },
  {
   "cell_type": "code",
   "execution_count": 52,
   "id": "4745c785",
   "metadata": {},
   "outputs": [],
   "source": [
    "def get_exact_names(name, aliases, acronyms, labels):\n",
    "    all_names = [name] + aliases + acronyms + [i['label'] for i in labels]\n",
    "    all_names = add_names_to_list(all_names)\n",
    "    all_names = [x for x in all_names if ~x.startswith('Department of')]\n",
    "    all_names_clean = [string_match_clean(x) for x in all_names]\n",
    "    return [x for x in all_names_clean if len(x) > 4]"
   ]
  },
  {
   "cell_type": "code",
   "execution_count": 53,
   "id": "181903bd",
   "metadata": {},
   "outputs": [],
   "source": [
    "def string_match_clean(text):\n",
    "    #replace \"&\" with \"and\"\n",
    "    if \"r&d\" not in text.lower():\n",
    "        text = text.replace(\" & \", \" and \")\n",
    "        \n",
    "    # take country out\n",
    "    if text.strip().endswith(\")\"):\n",
    "        for country in countries_list_flat:\n",
    "            if text.strip().endswith(f\"({country})\"):\n",
    "                text = text.replace(f\"({country})\", \"\")\n",
    "        \n",
    "    # use unidecode\n",
    "    text = unidecode(text.strip())\n",
    "    \n",
    "    # replacing common abbreviations\n",
    "    text = text.replace(\"Univ.\", \"University\")\n",
    "    text = text.replace(\"Lab.\", \"Laboratory\")\n",
    "    \n",
    "    # take out spaces, commas, dashes, periods, etcs\n",
    "    text = re.sub(\"[^0-9a-zA-Z]\", \"\", text)\n",
    "    \n",
    "    return text"
   ]
  },
  {
   "cell_type": "code",
   "execution_count": 54,
   "id": "f91cc78e",
   "metadata": {},
   "outputs": [],
   "source": [
    "def list_of_all_names(oa_name, ror_names, extra_names, use_extra_names=False):\n",
    "    banned_names = ['UniversityHospital','Coastal','Brunswick','Continental']\n",
    "    if isinstance(ror_names, list):\n",
    "        pass\n",
    "    else:\n",
    "        ror_names = []\n",
    "        \n",
    "    if isinstance(oa_name, str):\n",
    "        oa_string = [string_match_clean(oa_name)]\n",
    "    else:\n",
    "        oa_string = []\n",
    "        \n",
    "    if use_extra_names:\n",
    "        if isinstance(extra_names, list):\n",
    "            pass\n",
    "        else:\n",
    "            extra_names = []\n",
    "    else:\n",
    "        extra_names = []\n",
    "    \n",
    "    return [x for x in list(set(oa_string+ror_names+extra_names)) if \n",
    "            ((len(x) > 4) & (x not in banned_names))]"
   ]
  },
  {
   "cell_type": "code",
   "execution_count": 11,
   "id": "afb19811",
   "metadata": {},
   "outputs": [],
   "source": [
    "# this file is not provided but the needed data is all institutions in OpenAlex\n",
    "# with the following columns: 'ror_id','affiliation_id','display_name'\n",
    "institutions_df = pd.read_parquet(\"OA_static_institutions_single_file.parquet\")"
   ]
  },
  {
   "cell_type": "code",
   "execution_count": 25,
   "id": "7e6cd4a3",
   "metadata": {},
   "outputs": [],
   "source": [
    "# institutions = institutions_df.set_index('affiliation_id').to_dict(orient='index')"
   ]
  },
  {
   "cell_type": "code",
   "execution_count": 13,
   "id": "df229664",
   "metadata": {},
   "outputs": [],
   "source": [
    "ror = pd.read_json(\"./v1.19-2023-02-16-ror-data.json\")"
   ]
  },
  {
   "cell_type": "code",
   "execution_count": 14,
   "id": "c9a524c5",
   "metadata": {},
   "outputs": [],
   "source": [
    "ror['address'] = ror['addresses'].apply(lambda x: x[0])\n",
    "ror['ror_id'] = ror['id'].apply(lambda x: x.split(\"/\")[-1])\n",
    "ror['types'] = ror['types'].apply(lambda x: x[0])"
   ]
  },
  {
   "cell_type": "code",
   "execution_count": 15,
   "id": "04edf601",
   "metadata": {},
   "outputs": [],
   "source": [
    "ror['country_code'] = ror['country'].apply(lambda x: x['country_code'])\n",
    "ror['country_name'] = ror['country'].apply(lambda x: x['country_name'])\n",
    "ror['city'] = ror['address'].apply(lambda x: x['city'])\n",
    "ror['state'] = ror['address'].apply(lambda x: x['state'])\n",
    "ror['region'] = ror['address'].apply(get_geoname_admin)"
   ]
  },
  {
   "cell_type": "code",
   "execution_count": 16,
   "id": "fced5152",
   "metadata": {},
   "outputs": [],
   "source": [
    "ror_to_join = ror[['ror_id','name','status','types','aliases','acronyms','labels','city',\n",
    "                   'state','region','country_name']].copy()\n",
    "\n",
    "ror_to_join.columns = ['ror_id','name','status','types','aliases','acronyms','labels','city',\n",
    "                       'temp_state','temp_region','country']"
   ]
  },
  {
   "cell_type": "code",
   "execution_count": 17,
   "id": "8926d655",
   "metadata": {},
   "outputs": [],
   "source": [
    "ror_to_join['state'] = ror_to_join.apply(lambda x: get_final_region(x.temp_state, x.temp_region), axis=1)"
   ]
  },
  {
   "cell_type": "code",
   "execution_count": 18,
   "id": "577d4153",
   "metadata": {},
   "outputs": [
    {
     "data": {
      "text/plain": [
       "(102392, 14)"
      ]
     },
     "execution_count": 18,
     "metadata": {},
     "output_type": "execute_result"
    }
   ],
   "source": [
    "inst_ror = ror_to_join.merge(institutions_df[['ror_id','affiliation_id','display_name']], \n",
    "                             how='inner', on='ror_id')\n",
    "inst_ror.shape"
   ]
  },
  {
   "cell_type": "markdown",
   "id": "f03e628c",
   "metadata": {},
   "source": [
    "#### Getting file of multi-institution names"
   ]
  },
  {
   "cell_type": "code",
   "execution_count": 71,
   "id": "de54de85",
   "metadata": {},
   "outputs": [],
   "source": [
    "multi_inst_names_df = ror_to_join[['ror_id','name']].merge(institutions_df[['ror_id','affiliation_id']], \n",
    "                                                        how='left', on='ror_id') \\\n",
    "['name'].value_counts().reset_index()"
   ]
  },
  {
   "cell_type": "code",
   "execution_count": 72,
   "id": "ac4cc44d",
   "metadata": {},
   "outputs": [
    {
     "data": {
      "text/html": [
       "<div>\n",
       "<style scoped>\n",
       "    .dataframe tbody tr th:only-of-type {\n",
       "        vertical-align: middle;\n",
       "    }\n",
       "\n",
       "    .dataframe tbody tr th {\n",
       "        vertical-align: top;\n",
       "    }\n",
       "\n",
       "    .dataframe thead th {\n",
       "        text-align: right;\n",
       "    }\n",
       "</style>\n",
       "<table border=\"1\" class=\"dataframe\">\n",
       "  <thead>\n",
       "    <tr style=\"text-align: right;\">\n",
       "      <th></th>\n",
       "      <th>index</th>\n",
       "      <th>name</th>\n",
       "    </tr>\n",
       "  </thead>\n",
       "  <tbody>\n",
       "    <tr>\n",
       "      <th>0</th>\n",
       "      <td>Ministry of Health</td>\n",
       "      <td>53</td>\n",
       "    </tr>\n",
       "    <tr>\n",
       "      <th>1</th>\n",
       "      <td>Ministry of Education</td>\n",
       "      <td>20</td>\n",
       "    </tr>\n",
       "    <tr>\n",
       "      <th>2</th>\n",
       "      <td>Argosy University</td>\n",
       "      <td>18</td>\n",
       "    </tr>\n",
       "    <tr>\n",
       "      <th>3</th>\n",
       "      <td>Ministry of Justice</td>\n",
       "      <td>17</td>\n",
       "    </tr>\n",
       "    <tr>\n",
       "      <th>4</th>\n",
       "      <td>Ministry of Foreign Affairs</td>\n",
       "      <td>16</td>\n",
       "    </tr>\n",
       "    <tr>\n",
       "      <th>5</th>\n",
       "      <td>Ministry of Culture</td>\n",
       "      <td>14</td>\n",
       "    </tr>\n",
       "    <tr>\n",
       "      <th>6</th>\n",
       "      <td>Government Medical College</td>\n",
       "      <td>13</td>\n",
       "    </tr>\n",
       "    <tr>\n",
       "      <th>7</th>\n",
       "      <td>St. Luke's Hospital</td>\n",
       "      <td>12</td>\n",
       "    </tr>\n",
       "    <tr>\n",
       "      <th>8</th>\n",
       "      <td>International Institute of Tropical Agriculture</td>\n",
       "      <td>11</td>\n",
       "    </tr>\n",
       "    <tr>\n",
       "      <th>9</th>\n",
       "      <td>Ministry of Finance</td>\n",
       "      <td>11</td>\n",
       "    </tr>\n",
       "  </tbody>\n",
       "</table>\n",
       "</div>"
      ],
      "text/plain": [
       "                                             index  name\n",
       "0                               Ministry of Health    53\n",
       "1                            Ministry of Education    20\n",
       "2                                Argosy University    18\n",
       "3                              Ministry of Justice    17\n",
       "4                      Ministry of Foreign Affairs    16\n",
       "5                              Ministry of Culture    14\n",
       "6                       Government Medical College    13\n",
       "7                              St. Luke's Hospital    12\n",
       "8  International Institute of Tropical Agriculture    11\n",
       "9                              Ministry of Finance    11"
      ]
     },
     "execution_count": 72,
     "metadata": {},
     "output_type": "execute_result"
    }
   ],
   "source": [
    "multi_inst_names_df.head(10)"
   ]
  },
  {
   "cell_type": "code",
   "execution_count": 77,
   "id": "6a8ed7bd",
   "metadata": {},
   "outputs": [],
   "source": [
    "multi_inst_names = multi_inst_names_df[multi_inst_names_df['name']>1].iloc[:,0].tolist()"
   ]
  },
  {
   "cell_type": "code",
   "execution_count": 78,
   "id": "a4b26562",
   "metadata": {},
   "outputs": [],
   "source": [
    "multi_inst_names_ids = inst_ror[inst_ror['name'].isin(multi_inst_names)]['affiliation_id'].tolist()"
   ]
  },
  {
   "cell_type": "code",
   "execution_count": 79,
   "id": "cb8a31d6",
   "metadata": {},
   "outputs": [],
   "source": [
    "with open(f\"{curr_model_artifacts_location}multi_inst_names_ids.pkl\", \"wb\") as f:\n",
    "    pickle.dump(multi_inst_names_ids, f)"
   ]
  },
  {
   "cell_type": "markdown",
   "id": "514951ad",
   "metadata": {},
   "source": [
    "### Getting Mapping of Inactive Institutions"
   ]
  },
  {
   "cell_type": "markdown",
   "id": "a8eaf926",
   "metadata": {},
   "source": [
    "There are institutions in ROR that are listed as \"Withdrawn\" or \"Inactive\". There was some thought to use the old data associated with these ROR IDs and apply them to successors but for this model, we decided to hold off on doing this because we were unsure if there would be a benefit to doing so. Therefore, the code is provided but this data was not used in building the model."
   ]
  },
  {
   "cell_type": "code",
   "execution_count": 19,
   "id": "01e97850",
   "metadata": {},
   "outputs": [],
   "source": [
    "def get_successors_from_relationships(relationships):\n",
    "    successors = []\n",
    "    parents = []\n",
    "    for relationship in relationships:\n",
    "        if relationship['type'] == 'Successor':\n",
    "            successors.append(relationship['id'].split(\"/\")[-1])\n",
    "        elif relationship['type'] == 'Parent':\n",
    "            parents.append(relationship['id'].split(\"/\")[-1])\n",
    "        else:\n",
    "            pass\n",
    "    return [successors, parents]"
   ]
  },
  {
   "cell_type": "code",
   "execution_count": 20,
   "id": "cead5a33",
   "metadata": {},
   "outputs": [],
   "source": [
    "def get_extra_names(ror_id):\n",
    "    if ror_id in successor_dict.keys():\n",
    "        extra_names = []\n",
    "        for old_id in successor_dict[ror_id]['ror_id']:\n",
    "            extra_names += old_name_data[old_id]['successor_names']\n",
    "        \n",
    "        extra_names = list(set(extra_names))\n",
    "    else:\n",
    "        extra_names = []\n",
    "        \n",
    "    return extra_names"
   ]
  },
  {
   "cell_type": "code",
   "execution_count": 21,
   "id": "ca19566a",
   "metadata": {},
   "outputs": [
    {
     "data": {
      "text/plain": [
       "(1428, 23)"
      ]
     },
     "execution_count": 21,
     "metadata": {},
     "output_type": "execute_result"
    }
   ],
   "source": [
    "withdrawn_or_inactive_df = ror[ror['status'].isin(['withdrawn','inactive'])].copy()\n",
    "withdrawn_or_inactive_df.shape"
   ]
  },
  {
   "cell_type": "code",
   "execution_count": 22,
   "id": "b8fce951",
   "metadata": {},
   "outputs": [],
   "source": [
    "withdrawn_or_inactive_df['successors_parents'] = withdrawn_or_inactive_df['relationships'] \\\n",
    "    .apply(get_successors_from_relationships)"
   ]
  },
  {
   "cell_type": "code",
   "execution_count": 23,
   "id": "bdadfc74",
   "metadata": {},
   "outputs": [],
   "source": [
    "withdrawn_or_inactive_df['successors'] = withdrawn_or_inactive_df['successors_parents'].apply(lambda x: x[0])\n",
    "withdrawn_or_inactive_df['parents'] = withdrawn_or_inactive_df['successors_parents'].apply(lambda x: x[1])"
   ]
  },
  {
   "cell_type": "code",
   "execution_count": 24,
   "id": "46623b5c",
   "metadata": {},
   "outputs": [],
   "source": [
    "withdrawn_or_inactive_df['successor_len'] = withdrawn_or_inactive_df['successors'].apply(len)"
   ]
  },
  {
   "cell_type": "code",
   "execution_count": 25,
   "id": "c59d7901",
   "metadata": {},
   "outputs": [
    {
     "data": {
      "text/plain": [
       "(1323, 28)"
      ]
     },
     "execution_count": 25,
     "metadata": {},
     "output_type": "execute_result"
    }
   ],
   "source": [
    "to_add_to_successors = withdrawn_or_inactive_df[withdrawn_or_inactive_df['successor_len']==1].copy()\n",
    "to_add_to_successors['successor'] = to_add_to_successors['successors'].apply(lambda x: x[0])\n",
    "to_add_to_successors.shape"
   ]
  },
  {
   "cell_type": "code",
   "execution_count": 26,
   "id": "192b8697",
   "metadata": {},
   "outputs": [],
   "source": [
    "to_add_to_successors['successor_names'] = to_add_to_successors.apply(lambda x: get_exact_names(x['name'], \n",
    "                                                                                               x.aliases, \n",
    "                                                                                               x.acronyms, \n",
    "                                                                                               x.labels), \n",
    "                                                                     axis=1)"
   ]
  },
  {
   "cell_type": "code",
   "execution_count": 27,
   "id": "a084702a",
   "metadata": {},
   "outputs": [],
   "source": [
    "old_name_data = to_add_to_successors.set_index('ror_id')[['successor_names']].to_dict(orient='index')"
   ]
  },
  {
   "cell_type": "code",
   "execution_count": 28,
   "id": "37934f5f",
   "metadata": {},
   "outputs": [],
   "source": [
    "successor_dict = to_add_to_successors.groupby('successor')['ror_id'].apply(list).reset_index()\\\n",
    "    .set_index('successor').to_dict(orient='index')"
   ]
  },
  {
   "cell_type": "markdown",
   "id": "45abfc2c",
   "metadata": {},
   "source": [
    "### Getting ROR String Matching File and Affiliation Dictionary"
   ]
  },
  {
   "cell_type": "code",
   "execution_count": 30,
   "id": "3564dce5",
   "metadata": {},
   "outputs": [],
   "source": [
    "inst_ror['extra_names'] = inst_ror['ror_id'].apply(get_extra_names)"
   ]
  },
  {
   "cell_type": "code",
   "execution_count": 60,
   "id": "99749672",
   "metadata": {},
   "outputs": [],
   "source": [
    "inst_ror['exact_names'] = inst_ror.apply(lambda x: get_exact_names(x['name'], x.aliases, \n",
    "                                                                         x.acronyms, x.labels), axis=1)"
   ]
  },
  {
   "cell_type": "code",
   "execution_count": 61,
   "id": "4b3f3465",
   "metadata": {},
   "outputs": [],
   "source": [
    "inst_ror['final_names'] = inst_ror.apply(lambda x: list_of_all_names(x.display_name, x.exact_names, \n",
    "                                                                     x.extra_names, \n",
    "                                                                     use_extra_names=False), axis=1)"
   ]
  },
  {
   "cell_type": "code",
   "execution_count": 62,
   "id": "b3d11044",
   "metadata": {},
   "outputs": [],
   "source": [
    "new_affiliation_dict = inst_ror.set_index('affiliation_id')[['display_name','city','state',\n",
    "                                                             'country','final_names','ror_id','types']] \\\n",
    ".to_dict(orient='index')"
   ]
  },
  {
   "cell_type": "code",
   "execution_count": 64,
   "id": "51455a6c",
   "metadata": {},
   "outputs": [],
   "source": [
    "with open(f\"{curr_model_artifacts_location}full_affiliation_dict.pkl\", \"wb\") as f:\n",
    "    pickle.dump(new_affiliation_dict, f)"
   ]
  },
  {
   "cell_type": "code",
   "execution_count": null,
   "id": "116d227f",
   "metadata": {},
   "outputs": [],
   "source": []
  },
  {
   "cell_type": "markdown",
   "id": "14ab1cb0",
   "metadata": {},
   "source": [
    "### Updating the city/country file"
   ]
  },
  {
   "cell_type": "markdown",
   "id": "cc50efa2",
   "metadata": {},
   "source": [
    "This file is used to check the affiliation string to make sure it doesn't exactly match up with a city/region/country combo with no additional information."
   ]
  },
  {
   "cell_type": "code",
   "execution_count": 198,
   "id": "9828eab8",
   "metadata": {},
   "outputs": [
    {
     "data": {
      "text/plain": [
       "(14211, 17)"
      ]
     },
     "execution_count": 198,
     "metadata": {},
     "output_type": "execute_result"
    }
   ],
   "source": [
    "city_region_country = inst_ror.drop_duplicates(subset=['city','country']).copy()\n",
    "city_region_country.shape"
   ]
  },
  {
   "cell_type": "code",
   "execution_count": 226,
   "id": "2bcdc598",
   "metadata": {},
   "outputs": [],
   "source": [
    "new_city_country_list = list(set([f\"{i}{j}\" for i,j in zip(city_region_country['city'].tolist(), \n",
    "                                   city_region_country['country'].tolist())] + \n",
    "         [f\"{i}{j}{k}\"for i,j,k in zip(city_region_country['city'].tolist(), \n",
    "                                             city_region_country['state'].tolist(),\n",
    "                                             city_region_country['country'].tolist()) if j ] + \n",
    "         [f\"{i}{j}\" for i,j in zip(city_region_country['state'].tolist(), \n",
    "                                   city_region_country['country'].tolist()) if i] + \n",
    "         [f\"{i}\" for i in city_region_country['country'].tolist()] + \n",
    "         [f\"{i}\" for i in city_region_country['state'].tolist() if i]))\n",
    "\n",
    "new_city_country_list = list(set([string_match_clean(x) for x in new_city_country_list]))"
   ]
  },
  {
   "cell_type": "code",
   "execution_count": 227,
   "id": "2f5b3da4",
   "metadata": {},
   "outputs": [
    {
     "data": {
      "text/plain": [
       "32091"
      ]
     },
     "execution_count": 227,
     "metadata": {},
     "output_type": "execute_result"
    }
   ],
   "source": [
    "len(new_city_country_list)"
   ]
  },
  {
   "cell_type": "code",
   "execution_count": 228,
   "id": "993877b2",
   "metadata": {},
   "outputs": [],
   "source": [
    "with open(f\"{curr_model_artifacts_location}city_country_list.pkl\", \"wb\") as f:\n",
    "    pickle.dump(new_city_country_list, f)"
   ]
  },
  {
   "cell_type": "markdown",
   "id": "09c98435",
   "metadata": {},
   "source": [
    "### Flat country file is up to date"
   ]
  },
  {
   "cell_type": "markdown",
   "id": "a16d04e3",
   "metadata": {},
   "source": [
    "Flat country file is needed to search for country in the string for the model."
   ]
  },
  {
   "cell_type": "code",
   "execution_count": 43,
   "id": "3cc540d0",
   "metadata": {},
   "outputs": [
    {
     "data": {
      "text/plain": [
       "345"
      ]
     },
     "execution_count": 43,
     "metadata": {},
     "output_type": "execute_result"
    }
   ],
   "source": [
    "len(list(set(countries_list_flat)))"
   ]
  },
  {
   "cell_type": "code",
   "execution_count": 44,
   "id": "44847d44",
   "metadata": {},
   "outputs": [],
   "source": [
    "all_countries = []\n",
    "for i in countries_dict.values():\n",
    "    all_countries += i"
   ]
  },
  {
   "cell_type": "code",
   "execution_count": 45,
   "id": "2189b26b",
   "metadata": {},
   "outputs": [
    {
     "data": {
      "text/plain": [
       "396"
      ]
     },
     "execution_count": 45,
     "metadata": {},
     "output_type": "execute_result"
    }
   ],
   "source": [
    "len(list(set(all_countries)))"
   ]
  },
  {
   "cell_type": "code",
   "execution_count": 46,
   "id": "f5c0501f",
   "metadata": {},
   "outputs": [],
   "source": [
    "with open(f\"{curr_model_artifacts_location}countries_list_flat.pkl\", \"wb\") as f:\n",
    "    pickle.dump(list(set(all_countries)), f)"
   ]
  },
  {
   "cell_type": "markdown",
   "id": "979a7409",
   "metadata": {},
   "source": [
    "### Departments list update"
   ]
  },
  {
   "cell_type": "markdown",
   "id": "c6eb8b28",
   "metadata": {},
   "source": [
    "Takes the old department list and updates it with additional department names."
   ]
  },
  {
   "cell_type": "code",
   "execution_count": 230,
   "id": "05aeff8e",
   "metadata": {},
   "outputs": [],
   "source": [
    "with open(\"./ror_string_beginnings/Education_dept\", 'r') as f:\n",
    "    education_dept_begs = f.readlines()\n",
    "\n",
    "education_dept_begs = list(set([x.rstrip('\\n') for x in education_dept_begs]))"
   ]
  },
  {
   "cell_type": "code",
   "execution_count": 1,
   "id": "69dccd71",
   "metadata": {},
   "outputs": [],
   "source": [
    "departments_list = ['Psychology','Nephrology','Other departments','Other Departments','Nursing & Midwifery',\n",
    "                    'Literature and Creative Writing','Neuroscience','Engineering','Computer Science',\n",
    "                    'Chemistry','Biology','Medicine']"
   ]
  },
  {
   "cell_type": "code",
   "execution_count": 233,
   "id": "7a9fbb2a",
   "metadata": {},
   "outputs": [],
   "source": [
    "new_departments_list = list(set(departments_list + education_dept_begs))"
   ]
  },
  {
   "cell_type": "code",
   "execution_count": 234,
   "id": "d918c68b",
   "metadata": {},
   "outputs": [],
   "source": [
    "with open(f\"{curr_model_artifacts_location}departments_list.pkl\", \"wb\") as f:\n",
    "    pickle.dump(new_departments_list, f)"
   ]
  },
  {
   "cell_type": "code",
   "execution_count": null,
   "id": "b1331282",
   "metadata": {},
   "outputs": [],
   "source": []
  },
  {
   "cell_type": "markdown",
   "id": "e0d69a31",
   "metadata": {},
   "source": [
    "### Make affiliation IDs integers"
   ]
  },
  {
   "cell_type": "code",
   "execution_count": 251,
   "id": "dc442f94",
   "metadata": {},
   "outputs": [
    {
     "name": "stdout",
     "output_type": "stream",
     "text": [
      "Loaded basic affiliation vocab\n"
     ]
    }
   ],
   "source": [
    "with open(f\"{curr_model_artifacts_location}affiliation_vocab.pkl\", \"rb\") as f:\n",
    "    affiliation_vocab_basic = pickle.load(f)\n",
    "    \n",
    "new_affiliation_vocab_basic = {int(i):int(j) for j,i in affiliation_vocab_basic.items()}\n",
    "\n",
    "print(\"Loaded basic affiliation vocab\")"
   ]
  },
  {
   "cell_type": "code",
   "execution_count": 252,
   "id": "cc4147d2",
   "metadata": {},
   "outputs": [],
   "source": [
    "with open(f\"{curr_model_artifacts_location}affiliation_vocab.pkl\", \"wb\") as f:\n",
    "    pickle.dump(new_affiliation_vocab_basic, f)"
   ]
  },
  {
   "cell_type": "code",
   "execution_count": null,
   "id": "12735c2b",
   "metadata": {},
   "outputs": [],
   "source": []
  }
 ],
 "metadata": {
  "kernelspec": {
   "display_name": "Python 3 (ipykernel)",
   "language": "python",
   "name": "python3"
  },
  "language_info": {
   "codemirror_mode": {
    "name": "ipython",
    "version": 3
   },
   "file_extension": ".py",
   "mimetype": "text/x-python",
   "name": "python",
   "nbconvert_exporter": "python",
   "pygments_lexer": "ipython3",
   "version": "3.8.12"
  }
 },
 "nbformat": 4,
 "nbformat_minor": 5
}
