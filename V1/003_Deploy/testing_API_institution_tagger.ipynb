{
 "cells": [
  {
   "cell_type": "code",
   "execution_count": null,
   "id": "1220b8f6",
   "metadata": {},
   "outputs": [],
   "source": [
    "import time\n",
    "import requests\n",
    "import json\n",
    "import redshift_connector\n",
    "import multiprocessing as mp\n",
    "import mag_functions as F\n",
    "from math import ceil"
   ]
  },
  {
   "cell_type": "code",
   "execution_count": null,
   "id": "ebec953f",
   "metadata": {},
   "outputs": [],
   "source": [
    "# input that contains a single affiliation string to parse\n",
    "with open(\"test_json_single.json\", \"rb\") as f:\n",
    "    input_json = json.load(f)"
   ]
  },
  {
   "cell_type": "code",
   "execution_count": null,
   "id": "bbffb748",
   "metadata": {},
   "outputs": [],
   "source": [
    "# input that contains hard samples to make sure the model does not return errors\n",
    "with open(\"test_json_batch_tough.json\", \"rb\") as f:\n",
    "    input_json = json.load(f)"
   ]
  },
  {
   "cell_type": "code",
   "execution_count": null,
   "id": "abc6b0f6",
   "metadata": {},
   "outputs": [],
   "source": [
    "# input that contains 6 affiliation strings to parse\n",
    "with open(\"test_json_batch.json\", \"rb\") as f:\n",
    "    input_json = json.load(f)"
   ]
  },
  {
   "cell_type": "code",
   "execution_count": null,
   "id": "470fa408",
   "metadata": {},
   "outputs": [],
   "source": [
    "%%time\n",
    "# testing the call to the API one time\n",
    "len(json.loads(F.get_tags(input_json[10:13], 1)[1]))"
   ]
  },
  {
   "cell_type": "code",
   "execution_count": null,
   "id": "e74d520a",
   "metadata": {},
   "outputs": [],
   "source": [
    "%%time\n",
    "# testing the API call 100 times sequentially\n",
    "for i in range(100):\n",
    "    F.get_tags(input_json, 1)[1]"
   ]
  },
  {
   "cell_type": "markdown",
   "id": "482fc5ff",
   "metadata": {},
   "source": [
    "### Testing throughput with threading"
   ]
  },
  {
   "cell_type": "code",
   "execution_count": null,
   "id": "b8bc2a5d",
   "metadata": {},
   "outputs": [],
   "source": [
    "# iteratate through different batch sizes to see which one gives the optimal performance while\n",
    "# using threading to take advantage of SageMaker parallelism\n",
    "for i in [20,30]:   \n",
    "    test_payload = input_json*i\n",
    "    start_time = time.time()\n",
    "    final_output = []\n",
    "    with mp.Pool(processes=64) as p:\n",
    "        results = [p.apply(F.get_tags, args=(test_payload, 1)) for x in range(100)]\n",
    "    print(f\"batch={i}____{(time.time() - start_time) / (i*100*len(input_json))} seconds\")"
   ]
  },
  {
   "cell_type": "markdown",
   "id": "47d5db7f",
   "metadata": {},
   "source": [
    "### Testing API with data random queried OpenAlex data"
   ]
  },
  {
   "cell_type": "code",
   "execution_count": null,
   "id": "7ba5de35",
   "metadata": {},
   "outputs": [],
   "source": [
    "# Redshift credentials for querying the OpenAlex database\n",
    "with open(\"redshift_creds.txt\", \"r\") as f:\n",
    "    host = f.readline()[:-1]\n",
    "    password= f.readline()[:-1]"
   ]
  },
  {
   "cell_type": "code",
   "execution_count": null,
   "id": "a1bff96f",
   "metadata": {},
   "outputs": [],
   "source": [
    "# Creating a connection\n",
    "conn = redshift_connector.connect(\n",
    "     host=host,\n",
    "     database='dev',\n",
    "     user='app_user',\n",
    "     password=password\n",
    "  )\n",
    "\n",
    "cursor = conn.cursor()"
   ]
  },
  {
   "cell_type": "code",
   "execution_count": null,
   "id": "a607a5ec",
   "metadata": {
    "scrolled": true
   },
   "outputs": [],
   "source": [
    "# Making calls to the API with data that is queried directly from the OpenAlex database\n",
    "all_input = []\n",
    "all_output = []\n",
    "for i in range(25):\n",
    "    query = f\"\"\"select original_affiliation\n",
    "           from mid.affiliation\n",
    "           where original_affiliation is not null\n",
    "           order by RANDOM()\n",
    "           limit 50\"\"\"\n",
    "    cursor.execute(\"ROLLBACK;\")\n",
    "    cursor.execute(query)\n",
    "    test_strings = cursor.fetch_dataframe()\n",
    "    test_strings.columns = ['affiliation_string']\n",
    "    test_input = json.loads(test_strings.to_json(orient='records'))\n",
    "    all_input += test_input\n",
    "    test_output = json.loads(F.get_tags(test_input, 1)[1])\n",
    "    print(len(test_output))\n",
    "    all_output += test_output"
   ]
  },
  {
   "cell_type": "code",
   "execution_count": null,
   "id": "8cdd8b17",
   "metadata": {},
   "outputs": [],
   "source": [
    "# Checking to make sure there are no bad or empty predictions\n",
    "for i, j in zip(all_input,all_output):\n",
    "    if j['affiliation_id']:\n",
    "        print(f\"{j['affiliation_id']}\")"
   ]
  },
  {
   "cell_type": "code",
   "execution_count": null,
   "id": "6f95a8ba",
   "metadata": {},
   "outputs": [],
   "source": []
  }
 ],
 "metadata": {
  "kernelspec": {
   "display_name": "Python 3 (ipykernel)",
   "language": "python",
   "name": "python3"
  },
  "language_info": {
   "codemirror_mode": {
    "name": "ipython",
    "version": 3
   },
   "file_extension": ".py",
   "mimetype": "text/x-python",
   "name": "python",
   "nbconvert_exporter": "python",
   "pygments_lexer": "ipython3",
   "version": "3.8.13"
  }
 },
 "nbformat": 4,
 "nbformat_minor": 5
}
