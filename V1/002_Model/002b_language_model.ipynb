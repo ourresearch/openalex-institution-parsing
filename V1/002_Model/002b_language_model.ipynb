{
 "cells": [
  {
   "cell_type": "code",
   "execution_count": null,
   "id": "efc67f40",
   "metadata": {},
   "outputs": [],
   "source": [
    "import pickle\n",
    "import json\n",
    "import redshift_connector\n",
    "import pandas as pd\n",
    "pd.set_option(\"display.max_colwidth\", None)\n",
    "import numpy as np\n",
    "\n",
    "from collections import Counter\n",
    "from math import ceil\n",
    "from sklearn.model_selection import train_test_split"
   ]
  },
  {
   "cell_type": "code",
   "execution_count": null,
   "id": "9b1745b7",
   "metadata": {},
   "outputs": [],
   "source": [
    "import tensorflow as tf\n",
    "from datasets import load_dataset\n",
    "from transformers import create_optimizer, TFAutoModelForSequenceClassification, DistilBertTokenizer\n",
    "from transformers import DataCollatorWithPadding, TFDistilBertForSequenceClassification\n",
    "from transformers import TFRobertaForSequenceClassification, RobertaTokenizer\n",
    "from transformers import AutoModelForSequenceClassification, TrainingArguments, Trainer"
   ]
  },
  {
   "cell_type": "markdown",
   "id": "fb8636a8",
   "metadata": {},
   "source": [
    "## Loading Affiliation Data"
   ]
  },
  {
   "cell_type": "code",
   "execution_count": null,
   "id": "78df9497",
   "metadata": {},
   "outputs": [],
   "source": [
    "# Loading the data from the 002a notebook to get the processed text\n",
    "full_affs_data = pd.read_parquet(\"full_affs_data_tokenized.parquet\")"
   ]
  },
  {
   "cell_type": "code",
   "execution_count": null,
   "id": "95e1ea6a",
   "metadata": {},
   "outputs": [],
   "source": [
    "def create_affiliation_vocab(x):\n",
    "    \"\"\"\n",
    "    Checks if affiliation is in vocab and if not, adds to the vocab.\n",
    "    \"\"\"\n",
    "    if x not in affiliation_vocab.keys():\n",
    "        affiliation_vocab[x]=len(affiliation_vocab)\n",
    "    return affiliation_vocab[x]"
   ]
  },
  {
   "cell_type": "code",
   "execution_count": null,
   "id": "dd636f0a",
   "metadata": {},
   "outputs": [],
   "source": [
    "# initializing an empty affiliation vocab\n",
    "affiliation_vocab = {}\n",
    "\n",
    "# creating the label affiliation vocab\n",
    "full_affs_data['label'] = full_affs_data['affiliation_id'].apply(lambda x: create_affiliation_vocab(x))"
   ]
  },
  {
   "cell_type": "markdown",
   "id": "976723e8",
   "metadata": {},
   "source": [
    "### Splitting into Train/Val"
   ]
  },
  {
   "cell_type": "code",
   "execution_count": null,
   "id": "542b05d3",
   "metadata": {},
   "outputs": [],
   "source": [
    "train_data, val_data = train_test_split(full_affs_data[['processed_text','label']], \n",
    "                                        train_size=0.975, random_state=1)"
   ]
  },
  {
   "cell_type": "code",
   "execution_count": null,
   "id": "79ed9200",
   "metadata": {},
   "outputs": [],
   "source": [
    "train_data.to_parquet(\"train_data.parquet\")\n",
    "val_data.to_parquet(\"val_data.parquet\")"
   ]
  },
  {
   "cell_type": "markdown",
   "id": "a0e8e174",
   "metadata": {},
   "source": [
    "### Tokenizing Affiliation String"
   ]
  },
  {
   "cell_type": "code",
   "execution_count": null,
   "id": "0f6cd658",
   "metadata": {},
   "outputs": [],
   "source": [
    "# Loading the standard DistilBERT tokenizer\n",
    "tokenizer = DistilBertTokenizer.from_pretrained(\"distilbert-base-uncased\", return_tensors='tf')"
   ]
  },
  {
   "cell_type": "code",
   "execution_count": null,
   "id": "4ef5701a",
   "metadata": {},
   "outputs": [],
   "source": [
    "# Using the HuggingFace library to load the dataset\n",
    "train_dataset = load_dataset(\"parquet\", data_files={'train': 'train_data.parquet'})\n",
    "val_dataset = load_dataset(\"parquet\", data_files={'val': 'val_data.parquet'})"
   ]
  },
  {
   "cell_type": "code",
   "execution_count": null,
   "id": "6aed9ded",
   "metadata": {},
   "outputs": [],
   "source": [
    "MAX_LEN = 256\n",
    "\n",
    "def preprocess_function(examples):\n",
    "    return tokenizer(examples[\"processed_text\"], truncation=True, padding=True, \n",
    "                     max_length=MAX_LEN)"
   ]
  },
  {
   "cell_type": "code",
   "execution_count": null,
   "id": "47ec0201",
   "metadata": {},
   "outputs": [],
   "source": [
    "# Tokenizing the train dataset\n",
    "tokenized_train_data = train_dataset.map(preprocess_function, batched=True)"
   ]
  },
  {
   "cell_type": "code",
   "execution_count": null,
   "id": "7e4891f7",
   "metadata": {},
   "outputs": [],
   "source": [
    "# Tokenizing the validation dataset\n",
    "tokenized_val_data = val_dataset.map(preprocess_function, batched=True)"
   ]
  },
  {
   "cell_type": "markdown",
   "id": "155ced38",
   "metadata": {},
   "source": [
    "### Creating the model"
   ]
  },
  {
   "cell_type": "code",
   "execution_count": null,
   "id": "618e5d8b",
   "metadata": {},
   "outputs": [],
   "source": [
    "# Hyperparameters to tune\n",
    "batch_size = 256\n",
    "num_epochs = 20\n",
    "batches_per_epoch = len(tokenized_train_data[\"train\"]) // batch_size\n",
    "total_train_steps = int(batches_per_epoch * num_epochs)"
   ]
  },
  {
   "cell_type": "code",
   "execution_count": null,
   "id": "a9f5493b",
   "metadata": {},
   "outputs": [],
   "source": [
    "# Allow for use of multiple GPUs\n",
    "strategy = tf.distribute.MirroredStrategy()\n",
    "\n",
    "with strategy.scope():\n",
    "    data_collator = DataCollatorWithPadding(tokenizer=tokenizer, return_tensors='tf')\n",
    "\n",
    "    # Turning dataset into TF dataset\n",
    "    tf_train_dataset = tokenized_train_data[\"train\"].to_tf_dataset(\n",
    "    columns=[\"input_ids\", \"attention_mask\", \"label\"],\n",
    "    shuffle=True,\n",
    "    batch_size=batch_size, \n",
    "    collate_fn=data_collator)\n",
    "\n",
    "    # Turning dataset into TF dataset\n",
    "    tf_val_dataset = tokenized_val_data[\"val\"].to_tf_dataset(\n",
    "    columns=[\"input_ids\", \"attention_mask\", \"label\"],\n",
    "    shuffle=False,\n",
    "    batch_size=1,\n",
    "    collate_fn=data_collator)\n",
    "\n",
    "    # Using HuggingFace library to create optimizer\n",
    "    optimizer, schedule = create_optimizer(init_lr=1e-4, num_warmup_steps=0, num_train_steps=total_train_steps)\n",
    "    \n",
    "    # Loading the DistilBERT model and weights with a classification head\n",
    "    model = TFAutoModelForSequenceClassification.from_pretrained(\"distilbert-base-uncased\", \n",
    "                                                                 num_labels=len(affiliation_vocab))\n",
    "    model.compile(optimizer=optimizer)"
   ]
  },
  {
   "cell_type": "code",
   "execution_count": null,
   "id": "5420b47b",
   "metadata": {
    "scrolled": true
   },
   "outputs": [],
   "source": [
    "model.fit(tf_train_dataset, validation_data=tf_val_dataset, epochs=num_epochs)"
   ]
  },
  {
   "cell_type": "code",
   "execution_count": null,
   "id": "7cba4069",
   "metadata": {},
   "outputs": [],
   "source": [
    "tf_save_directory = \"./language_model\""
   ]
  },
  {
   "cell_type": "code",
   "execution_count": null,
   "id": "a6261844",
   "metadata": {},
   "outputs": [],
   "source": [
    "# Saving the model, tokenizer, and affiliation (target) vocab\n",
    "tokenizer.save_pretrained(tf_save_directory)\n",
    "model.save_pretrained(tf_save_directory)\n",
    "with open(f\"{tf_save_directory}/vocab.pkl\", \"wb\") as f:\n",
    "    pickle.dump(affiliation_vocab, f)"
   ]
  },
  {
   "cell_type": "code",
   "execution_count": null,
   "id": "4bde6bbd",
   "metadata": {},
   "outputs": [],
   "source": []
  }
 ],
 "metadata": {
  "kernelspec": {
   "display_name": "Python 3 (ipykernel)",
   "language": "python",
   "name": "python3"
  },
  "language_info": {
   "codemirror_mode": {
    "name": "ipython",
    "version": 3
   },
   "file_extension": ".py",
   "mimetype": "text/x-python",
   "name": "python",
   "nbconvert_exporter": "python",
   "pygments_lexer": "ipython3",
   "version": "3.8.13"
  }
 },
 "nbformat": 4,
 "nbformat_minor": 5
}
